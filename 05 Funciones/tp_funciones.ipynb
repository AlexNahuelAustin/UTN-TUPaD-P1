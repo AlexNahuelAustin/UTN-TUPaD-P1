{
 "cells": [
  {
   "cell_type": "code",
   "execution_count": null,
   "id": "70ee3838",
   "metadata": {},
   "outputs": [
    {
     "name": "stdout",
     "output_type": "stream",
     "text": [
      "hola mundo\n"
     ]
    }
   ],
   "source": [
    "#1.Crear una función llamada imprimir_hola_mundo que imprima por\n",
    "# pantalla el mensaje: “Hola Mundo!”. Llamar a esta función desde el\n",
    "# programa principal.\n",
    "\n",
    "#definicion de la funcion.\n",
    "def imprimir_hola_mundo():\n",
    "    print (\"hola mundo\")\n",
    "\n",
    "#prpgrama principal\n",
    "\n",
    "imprimir_hola_mundo()\n"
   ]
  },
  {
   "cell_type": "code",
   "execution_count": null,
   "id": "8f945833",
   "metadata": {},
   "outputs": [
    {
     "name": "stdout",
     "output_type": "stream",
     "text": [
      "Hola alex!\n"
     ]
    }
   ],
   "source": [
    "#2Crear una función llamada saludar_usuario(nombre) que recibacomo parámetro un nombre y devuelva un saludo personalizado.\n",
    "# Por ejemplo, si se llama con saludar_usuario(\"Marcos\"), deberá devolver: “Hola Marcos!”. Llamar a esta función desde el programa\n",
    "# principal solicitando el nombre al usuario.\n",
    "\n",
    "#definicion de la funcion.\n",
    "\n",
    "def saludar_usuario(nombre):\n",
    "    saludo = f\"Hola {nombre}!\"\n",
    "    return saludo\n",
    "    \n",
    "#programa principal\n",
    "\n",
    "nombre_usuario = input(\"Ingrese su nombre: \")\n",
    "mensaje_saludo = saludar_usuario(nombre_usuario)\n",
    "print(mensaje_saludo) "
   ]
  },
  {
   "cell_type": "code",
   "execution_count": null,
   "id": "e494b060",
   "metadata": {},
   "outputs": [
    {
     "name": "stdout",
     "output_type": "stream",
     "text": [
      "soy alex nahuel tengo 25 años y vivo en santa maria de punilla\n"
     ]
    }
   ],
   "source": [
    "#3.Crear una función llamada informacion_personal(nombre, apellido,\n",
    "#edad, residencia) que reciba cuatro parámetros e imprima: “Soy\n",
    "#[nombre] [apellido], tengo [edad] años y vivo en [residencia]”. Pedir los datos al usuario y llamar a esta función con los valores ingresados\n",
    "\n",
    "#definicion de la funcion.\n",
    "\n",
    "def informacion_personal(nombre,apellido,edad,residencia):\n",
    "    informacion = f\"soy {nombre} {apellido} tengo {edad} años y vivo en {residencia}\"\n",
    "    return informacion\n",
    "\n",
    "#programa principal\n",
    "\n",
    "nombre = input(\"ingrese su nombre: \")\n",
    "apellido = input(\"ingrese su apellido: \")\n",
    "edad = input(\"ingrese su edad: \")\n",
    "residencia = input(\"inrgese su residencia: \")\n",
    "\n",
    "info_personal = informacion_personal(nombre,apellido,edad,residencia)\n",
    "print(info_personal)"
   ]
  },
  {
   "cell_type": "code",
   "execution_count": null,
   "id": "cc1e5d73",
   "metadata": {},
   "outputs": [
    {
     "name": "stdout",
     "output_type": "stream",
     "text": [
      "el area es: 78.53981633974483.\n",
      "el perimetro es de: 31.41592653589793\n"
     ]
    }
   ],
   "source": [
    "#4.Crear dos funciones: calcular_area_circulo(radio) que reciba el radio como parámetro y devuelva el área del círculo. \n",
    "#calcular_perimetro_circulo(radio) que reciba el radio como parámetro y devuelva el perímetro del círculo. \n",
    "#Solicitar el radio al usuario y llamar ambas funciones para mostrar los resultados.\n",
    "\n",
    "#definicion de la funcion.\n",
    "\n",
    "import math\n",
    "pi = math.pi\n",
    "def calcular_area_circulo(radio):\n",
    "     area = pi * radio ** 2\n",
    "     return area\n",
    "\n",
    "def calcular_perimetro_circulo(radio):\n",
    "     perimetro = pi * radio * 2\n",
    "     return perimetro\n",
    "\n",
    "#programa principal\n",
    "\n",
    "radio = float(input(\"ingrese el radio: \"))\n",
    "area = calcular_area_circulo(radio)\n",
    "print(f\"el area es: {area}.\")\n",
    "\n",
    "\n",
    "perimetro = calcular_perimetro_circulo(radio)\n",
    "print(f\"el perimetro es de: {perimetro}\")\n"
   ]
  },
  {
   "cell_type": "code",
   "execution_count": null,
   "id": "169c71d6",
   "metadata": {},
   "outputs": [
    {
     "name": "stdout",
     "output_type": "stream",
     "text": [
      "545 segundos equivalen a 0.15138888888888888 horas.\n",
      "Fin del programa.\n"
     ]
    }
   ],
   "source": [
    "#5.Crear una función llamada segundos_a_horas(segundos) que reciba una cantidad de segundos como parámetro y devuelva la cantidad\n",
    "#de horas correspondientes. Solicitar al usuario los segundos y mostrar el resultado usando esta función.\n",
    "\n",
    "#definicion de la funcion.\n",
    "\n",
    "def segundos_a_horas(segundos):\n",
    "    \"\"\"Convierte una cantidad de segundos a horas.\"\"\"\n",
    "    horas = segundos / 3600\n",
    "    return horas\n",
    "\n",
    "# Programa principal\n",
    "try:\n",
    "    segundos_totales_str = input(\"Ingrese la cantidad de segundos: \")\n",
    "    segundos_totales = int(segundos_totales_str)\n",
    "    horas_resultantes = segundos_a_horas(segundos_totales)\n",
    "    print(f\"{segundos_totales} segundos equivalen a {horas_resultantes} horas.\")\n",
    "except ValueError:\n",
    "    print(\"¡Entrada inválida! Por favor, ingrese un número entero para los segundos.\")\n",
    "\n",
    "print(\"Fin del programa.\")"
   ]
  },
  {
   "cell_type": "code",
   "execution_count": null,
   "id": "29568edf",
   "metadata": {},
   "outputs": [
    {
     "name": "stdout",
     "output_type": "stream",
     "text": [
      "Tabla de multiplicar del 2:\n",
      "2\n",
      "4\n",
      "6\n",
      "8\n",
      "10\n",
      "12\n",
      "14\n",
      "16\n",
      "18\n",
      "20\n"
     ]
    }
   ],
   "source": [
    "#6.Crear una función llamada tabla_multiplicar(numero) que reciba unnúmero como parámetro y imprima la tabla de multiplicar de ese\n",
    "#número del 1 al 10. Pedir al usuario el número y llamar a la función.\n",
    "\n",
    "#definicion de la funcion.\n",
    "\n",
    "def tabla_multiplicar(numero):\n",
    "    print(f\"Tabla de multiplicar del {numero}:\")\n",
    "    for i in range(1,11):\n",
    "        resultado = i * numero\n",
    "        print(resultado)\n",
    "\n",
    "# Programa principal\n",
    "\n",
    "num = int(input(\"ingrese un numero\"))\n",
    "tabla_multiplicar(num)\n",
    "\n"
   ]
  },
  {
   "cell_type": "code",
   "execution_count": null,
   "id": "2e0f3702",
   "metadata": {},
   "outputs": [
    {
     "name": "stdout",
     "output_type": "stream",
     "text": [
      "Suma: 26.0\n",
      "Resta: 16.0\n",
      "Multiplicación: 105.0\n",
      "División: 4.2\n"
     ]
    }
   ],
   "source": [
    "#7.Crear una función llamada operaciones_basicas(a, b) que recibados números como parámetros y devuelva una tupla con el resultado de sumarlos, restarlos, multiplicarlos y dividirlos. \n",
    "#Mostrar los resultados de forma clara.\n",
    "\n",
    "#definicion de la funcion.\n",
    "\n",
    "def operaciones_basicas(a, b):\n",
    "    suma = a + b\n",
    "    resta = a - b\n",
    "    multiplicacion = a * b\n",
    "    if b == 0:\n",
    "        division = \"No se puede dividir por cero\"\n",
    "    else:\n",
    "        division = a / b\n",
    "    resultados = (suma, resta, multiplicacion, division)\n",
    "    return resultados\n",
    "\n",
    "# Programa principal\n",
    "num1 = float(input(\"Ingrese el primer número: \"))\n",
    "num2 = float(input(\"Ingrese el segundo número: \"))\n",
    "resultados_tupla = operaciones_basicas(num1, num2)\n",
    "\n",
    "suma_res, resta_res, multiplicacion_res, division_res = resultados_tupla\n",
    "\n",
    "print(f\"Suma: {suma_res}\")\n",
    "print(f\"Resta: {resta_res}\")\n",
    "print(f\"Multiplicación: {multiplicacion_res}\")\n",
    "print(f\"División: {division_res}\")"
   ]
  },
  {
   "cell_type": "code",
   "execution_count": null,
   "id": "1fde1b04",
   "metadata": {},
   "outputs": [
    {
     "name": "stdout",
     "output_type": "stream",
     "text": [
      "tu indice de masa corporal es: 28.73\n"
     ]
    }
   ],
   "source": [
    "#8.Crear una función llamada calcular_imc(peso, altura) que reciba el peso en kilogramos y la altura en metros, y devuelva el índice de masa corporal (IMC). \n",
    "# Solicitar al usuario los datos y llamar a la función para mostrar el resultado con dos decimales.\n",
    "\n",
    "#definicion de la funcion.\n",
    "\n",
    "def calcular_imc(peso, altura):\n",
    "    print(f\"tu indice de masa corporal es: {imc_calculado:.2f}\")\n",
    "    imc = peso / (altura **2)\n",
    "    return imc\n",
    "\n",
    "# Programa principal\n",
    "\n",
    "peso = float(input(\"ingrese su peso: \"))\n",
    "altura = float(input(\"ingrese su altura\"))\n",
    "\n",
    "\n",
    "imc_calculado = calcular_imc(peso,altura)\n"
   ]
  },
  {
   "cell_type": "code",
   "execution_count": null,
   "id": "77bd23f0",
   "metadata": {},
   "outputs": [
    {
     "name": "stdout",
     "output_type": "stream",
     "text": [
      "la temperatura en fahrengeit 90.5\n"
     ]
    }
   ],
   "source": [
    "#9.Crear una función llamada celsius_a_fahrenheit(celsius) que reciba una temperatura en grados Celsius y devuelva su equivalente en Fahrenheit. \n",
    "#Pedir al usuario la temperatura en Celsius y mostrar el resultado usando la función.\n",
    "\n",
    "#definicion de la funcion.\n",
    "\n",
    "def celsius_a_fahrenheit(celsius):\n",
    "    pasaje = (celsius * 9/5) + 32\n",
    "    return pasaje\n",
    "\n",
    "# Programa principal\n",
    "\n",
    "temp_celius = float(input(\"ingrese la temperatura en celsuis: \"))\n",
    "print(\"la temperatura en fahrengeit\", celsius_a_fahrenheit(temp_celius))\n"
   ]
  },
  {
   "cell_type": "code",
   "execution_count": null,
   "id": "b2edebc1",
   "metadata": {},
   "outputs": [
    {
     "name": "stdout",
     "output_type": "stream",
     "text": [
      "El promedio es: 5.333333333333333\n"
     ]
    }
   ],
   "source": [
    "#10.Crear una función llamada calcular_promedio(a, b, c) que reciba tres números como parámetros y devuelva el promedio de ellos.\n",
    "#Solicitar los números al usuario y mostrar el resultado usando esta función.\n",
    "\n",
    "#definicion de la funcion.\n",
    "\n",
    "def calcular_promedio(a,b,c):\n",
    "    media = (a + b + c) / 3\n",
    "    return media\n",
    "\n",
    "\n",
    "# Programa principal\n",
    "\n",
    "num = int(input(\"ingrese el primer numero: \"))\n",
    "num1 = int(input(\"ingrese el segundo numero: \"))\n",
    "num2 = int(input(\"ingrese el tercer numero: \"))\n",
    "\n",
    "promedio_calculado = calcular_promedio(num, num2,num2)\n",
    "print(\"El promedio es:\", promedio_calculado)"
   ]
  }
 ],
 "metadata": {
  "kernelspec": {
   "display_name": "Python 3",
   "language": "python",
   "name": "python3"
  },
  "language_info": {
   "codemirror_mode": {
    "name": "ipython",
    "version": 3
   },
   "file_extension": ".py",
   "mimetype": "text/x-python",
   "name": "python",
   "nbconvert_exporter": "python",
   "pygments_lexer": "ipython3",
   "version": "3.12.10"
  }
 },
 "nbformat": 4,
 "nbformat_minor": 5
}
