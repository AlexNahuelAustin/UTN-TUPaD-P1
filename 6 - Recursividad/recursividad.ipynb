{
 "cells": [
  {
   "cell_type": "code",
   "execution_count": null,
   "id": "72d3256d",
   "metadata": {},
   "outputs": [
    {
     "name": "stdout",
     "output_type": "stream",
     "text": [
      "1\n"
     ]
    }
   ],
   "source": [
    "#1)Crea una función recursiva que calcule el factorial de un número. Luego, utiliza esa\n",
    "#función para calcular y mostrar en pantalla el factorial de todos los números enteros\n",
    "#entre 1 y el número que indique el usuario\n",
    "\n",
    "def factorial_recursividad(num):\n",
    "    if num == 0:\n",
    "        return 1\n",
    "    elif num == 1:\n",
    "        return 1\n",
    "    else:\n",
    "        return num * factorial_recursividad(num - 1)\n",
    "    \n",
    "    \n",
    "print(factorial_recursividad(0))"
   ]
  },
  {
   "cell_type": "code",
   "execution_count": null,
   "id": "b55638e2",
   "metadata": {},
   "outputs": [
    {
     "name": "stdout",
     "output_type": "stream",
     "text": [
      "13\n"
     ]
    }
   ],
   "source": [
    "#2)Crea una función recursiva que calcule el valor de la serie de Fibonacci en la posición\n",
    "#indicada. Posteriormente, muestra la serie completa hasta la posición que el usuario\n",
    "#especifique\n",
    "\n",
    "def fibonacci_recursiva(num):\n",
    "    if num == 0:\n",
    "        return 0\n",
    "    elif num == 1:\n",
    "        return 1\n",
    "    else:\n",
    "        return fibonacci_recursiva(num - 1) + fibonacci_recursiva (num - 2)\n",
    "    \n",
    "print(fibonacci_recursiva(7))\n",
    "        \n",
    "            \n",
    "    "
   ]
  },
  {
   "cell_type": "code",
   "execution_count": null,
   "id": "a30702c6",
   "metadata": {},
   "outputs": [
    {
     "name": "stdout",
     "output_type": "stream",
     "text": [
      "16\n"
     ]
    }
   ],
   "source": [
    "#3) Crea una función recursiva que calcule la potencia de un número base elevado a un\n",
    "#exponente, utilizando la fórmula 𝑛𝑚 = 𝑛 ∗ 𝑛 (𝑚−1). Prueba esta función en un algoritmo general.\n",
    "\n",
    "def pontecial_recursiva(num,exponente):\n",
    "    if exponente == 0:\n",
    "        return 1\n",
    "    elif exponente == 1:\n",
    "        return num\n",
    "    else:\n",
    "        return num * pontecial_recursiva(num, exponente - 1)\n",
    "    \n",
    "print(pontecial_recursiva(2,4))"
   ]
  },
  {
   "cell_type": "code",
   "execution_count": null,
   "id": "a48d1605",
   "metadata": {},
   "outputs": [
    {
     "name": "stdout",
     "output_type": "stream",
     "text": [
      "11001\n"
     ]
    }
   ],
   "source": [
    "#4) Crear una función recursiva en Python que reciba un número entero positivo en base\n",
    "#decimal y devuelva su representación en binario como una cadena de texto.\n",
    "#Cuando representamos un número en binario, lo expresamos usando solamente ceros (0) y\n",
    "#unos (1), en base 2. Para convertir un número decimal a binario, se puede seguir este\n",
    "#procedimiento:\n",
    "#1. Dividir el número por 2.\n",
    "#2. Guardar el resto (0 o 1).\n",
    "#3. Repetir el proceso con el cociente hasta que llegue a 0.\n",
    "#4. Los restos obtenidos, leídos de abajo hacia arriba, forman el número binario.\n",
    "\n",
    "\n",
    "def binario_recursiva(num):\n",
    "    if num == 0:\n",
    "        return 0\n",
    "    elif num == 1:\n",
    "        return 1\n",
    "    else:\n",
    "        resto = num % 2\n",
    "        cociente = num // 2\n",
    "        return binario_recursiva(cociente) * 10 + resto\n",
    "    \n",
    "print(binario_recursiva(25))\n"
   ]
  },
  {
   "cell_type": "code",
   "execution_count": 3,
   "id": "60f6f561",
   "metadata": {},
   "outputs": [
    {
     "name": "stdout",
     "output_type": "stream",
     "text": [
      "False\n"
     ]
    }
   ],
   "source": [
    "#5) Implementá una función recursiva llamada es_palindromo(palabra) que reciba una\n",
    "#cadena de texto sin espacios ni tildes, y devuelva True si es un palíndromo o False si no lo es.3\n",
    "# Requisitos:\n",
    "#La solución debe ser recursiva.\n",
    "#No se debe usar [::-1] ni la función reversed().\n",
    "\n",
    "def es_palindromo(palabra):\n",
    "    if len(palabra) <= 1:\n",
    "        return True\n",
    "    if palabra[0] == palabra[-1]:\n",
    "        return es_palindromo(palabra[1:-1]) # palabra[1:-1] obtiene la subcadena sin el primer y último carácter\n",
    "    else:\n",
    "        # Si el primer y último carácter no coinciden, no es un palíndromo.\n",
    "        return False\n",
    "    \n",
    "print(es_palindromo(\"pedero\"))"
   ]
  },
  {
   "cell_type": "code",
   "execution_count": null,
   "id": "8ef882dc",
   "metadata": {},
   "outputs": [],
   "source": [
    "#6) Escribí una función recursiva en Python llamada suma_digitos(n) que reciba un\n",
    "#número entero positivo y devuelva la suma de todos sus dígitos.\n",
    "#Restricciones:\n",
    "#No se puede convertir el número a string.\n",
    "#Usá operaciones matemáticas (%, //) y recursión.\n",
    "#Ejemplos:\n",
    "##suma_digitos(1234) → 10 (1 + 2 + 3 + 4)\n",
    "#suma_digitos(9) → 9\n",
    "#suma_digitos(305) → 8 (3 + 0 + 5)\n",
    "\n",
    "def suma_digitos(n):\n",
    "    if n < 10:\n",
    "        return n\n",
    "    else:\n",
    "        return (n % 10) + suma_digitos(n // 10)\n",
    "\n",
    "\n",
    "\n",
    "print(suma_digitos(1234))\n",
    "print(suma_digitos(9))\n",
    "print(suma_digitos(305))\n"
   ]
  },
  {
   "cell_type": "code",
   "execution_count": null,
   "id": "a17c3325",
   "metadata": {},
   "outputs": [],
   "source": [
    "#7) Un niño está construyendo una pirámide con bloques. En el nivel más bajo coloca n\n",
    "#bloques, en el siguiente nivel uno menos (n - 1), y así sucesivamente hasta llegar al\n",
    "#último nivel con un solo bloque.\n",
    "#Escribí una función recursiva contar_bloques(n) que reciba el número de bloques en el\n",
    "#nivel más bajo y devuelva el total de bloques que necesita para construir toda la\n",
    "#pirámide.\n",
    "\n",
    "def contar_bloques(n):\n",
    "    if n <= 1:\n",
    "        return n\n",
    "    else:\n",
    "        return n + contar_bloques(n-1)\n",
    "\n",
    "print(contar_bloques(8))\n",
    "\n"
   ]
  },
  {
   "cell_type": "code",
   "execution_count": null,
   "id": "a99d3c3d",
   "metadata": {},
   "outputs": [],
   "source": [
    "#8) Escribí una función recursiva llamada contar_digito(numero, digito) que reciba un\n",
    "#número entero positivo (numero) y un dígito (entre 0 y 9), y devuelva cuántas veces\n",
    "#aparece ese dígito dentro del número.\n",
    "#Ejemplos:\n",
    "#contar_digito(12233421, 2) → 3\n",
    "#contar_digito(5555, 5) → 4 \n",
    "#contar_digito(123456, 7) → 0 \n",
    "\n",
    "def contar_digito(numero,digito):\n",
    "    if numero == 0:\n",
    "        return 0\n",
    "    ultimo_digito = numero % 10\n",
    "    contador = 0\n",
    "    if ultimo_digito == digito:\n",
    "        contador = 1\n",
    "\n",
    "    return contador + contar_digito(numero // 10, digito)\n",
    "\n",
    "print(contar_digito(123164564323232323,3))\n",
    "\n",
    "        "
   ]
  }
 ],
 "metadata": {
  "kernelspec": {
   "display_name": "Python 3",
   "language": "python",
   "name": "python3"
  },
  "language_info": {
   "codemirror_mode": {
    "name": "ipython",
    "version": 3
   },
   "file_extension": ".py",
   "mimetype": "text/x-python",
   "name": "python",
   "nbconvert_exporter": "python",
   "pygments_lexer": "ipython3",
   "version": "3.12.10"
  }
 },
 "nbformat": 4,
 "nbformat_minor": 5
}
