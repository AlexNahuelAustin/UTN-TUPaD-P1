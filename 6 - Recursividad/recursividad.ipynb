{
 "cells": [
  {
   "cell_type": "code",
   "execution_count": null,
   "id": "72d3256d",
   "metadata": {},
   "outputs": [
    {
     "name": "stdout",
     "output_type": "stream",
     "text": [
      "1\n"
     ]
    }
   ],
   "source": [
    "#1)Crea una función recursiva que calcule el factorial de un número. Luego, utiliza esa\n",
    "#función para calcular y mostrar en pantalla el factorial de todos los números enteros\n",
    "#entre 1 y el número que indique el usuario\n",
    "\n",
    "def factorial_recursividad(num):\n",
    "    if num == 0:\n",
    "        return 1\n",
    "    elif num == 1:\n",
    "        return 1\n",
    "    else:\n",
    "        return num * factorial_recursividad(num - 1)\n",
    "    \n",
    "    \n",
    "print(factorial_recursividad(0))"
   ]
  },
  {
   "cell_type": "code",
   "execution_count": null,
   "id": "b55638e2",
   "metadata": {},
   "outputs": [
    {
     "name": "stdout",
     "output_type": "stream",
     "text": [
      "13\n"
     ]
    }
   ],
   "source": [
    "#2)Crea una función recursiva que calcule el valor de la serie de Fibonacci en la posición\n",
    "#indicada. Posteriormente, muestra la serie completa hasta la posición que el usuario\n",
    "#especifique\n",
    "\n",
    "def fibonacci_recursiva(num):\n",
    "    if num == 0:\n",
    "        return 0\n",
    "    elif num == 1:\n",
    "        return 1\n",
    "    else:\n",
    "        return fibonacci_recursiva(num - 1) + fibonacci_recursiva (num - 2)\n",
    "    \n",
    "print(fibonacci_recursiva(7))\n",
    "        \n",
    "            \n",
    "    "
   ]
  },
  {
   "cell_type": "code",
   "execution_count": null,
   "id": "a30702c6",
   "metadata": {},
   "outputs": [
    {
     "name": "stdout",
     "output_type": "stream",
     "text": [
      "16\n"
     ]
    }
   ],
   "source": [
    "#3) Crea una función recursiva que calcule la potencia de un número base elevado a un\n",
    "#exponente, utilizando la fórmula 𝑛𝑚 = 𝑛 ∗ 𝑛 (𝑚−1). Prueba esta función en un algoritmo general.\n",
    "\n",
    "def pontecial_recursiva(num,exponente):\n",
    "    if exponente == 0:\n",
    "        return 1\n",
    "    elif exponente == 1:\n",
    "        return num\n",
    "    else:\n",
    "        return num * pontecial_recursiva(num, exponente - 1)\n",
    "    \n",
    "print(pontecial_recursiva(2,4))"
   ]
  },
  {
   "cell_type": "code",
   "execution_count": null,
   "id": "a48d1605",
   "metadata": {},
   "outputs": [
    {
     "name": "stdout",
     "output_type": "stream",
     "text": [
      "11001\n"
     ]
    }
   ],
   "source": [
    "#4) Crear una función recursiva en Python que reciba un número entero positivo en base\n",
    "#decimal y devuelva su representación en binario como una cadena de texto.\n",
    "#Cuando representamos un número en binario, lo expresamos usando solamente ceros (0) y\n",
    "#unos (1), en base 2. Para convertir un número decimal a binario, se puede seguir este\n",
    "#procedimiento:\n",
    "#1. Dividir el número por 2.\n",
    "#2. Guardar el resto (0 o 1).\n",
    "#3. Repetir el proceso con el cociente hasta que llegue a 0.\n",
    "#4. Los restos obtenidos, leídos de abajo hacia arriba, forman el número binario.\n",
    "\n",
    "\n",
    "def binario_recursiva(num):\n",
    "    if num == 0:\n",
    "        return 0\n",
    "    elif num == 1:\n",
    "        return 1\n",
    "    else:\n",
    "        resto = num % 2\n",
    "        cociente = num // 2\n",
    "        return binario_recursiva(cociente) * 10 + resto\n",
    "    \n",
    "print(binario_recursiva(25))\n"
   ]
  },
  {
   "cell_type": "code",
   "execution_count": 3,
   "id": "60f6f561",
   "metadata": {},
   "outputs": [
    {
     "name": "stdout",
     "output_type": "stream",
     "text": [
      "False\n"
     ]
    }
   ],
   "source": [
    "#5) Implementá una función recursiva llamada es_palindromo(palabra) que reciba una\n",
    "#cadena de texto sin espacios ni tildes, y devuelva True si es un palíndromo o False si no lo es.3\n",
    "# Requisitos:\n",
    "#La solución debe ser recursiva.\n",
    "#No se debe usar [::-1] ni la función reversed().\n",
    "\n",
    "def es_palindromo(palabra):\n",
    "    if len(palabra) <= 1:\n",
    "        return True\n",
    "    if palabra[0] == palabra[-1]:\n",
    "        return es_palindromo(palabra[1:-1]) # palabra[1:-1] obtiene la subcadena sin el primer y último carácter\n",
    "    else:\n",
    "        # Si el primer y último carácter no coinciden, no es un palíndromo.\n",
    "        return False\n",
    "    \n",
    "print(es_palindromo(\"pedero\"))"
   ]
  }
 ],
 "metadata": {
  "kernelspec": {
   "display_name": "Python 3",
   "language": "python",
   "name": "python3"
  },
  "language_info": {
   "codemirror_mode": {
    "name": "ipython",
    "version": 3
   },
   "file_extension": ".py",
   "mimetype": "text/x-python",
   "name": "python",
   "nbconvert_exporter": "python",
   "pygments_lexer": "ipython3",
   "version": "3.12.10"
  }
 },
 "nbformat": 4,
 "nbformat_minor": 5
}
