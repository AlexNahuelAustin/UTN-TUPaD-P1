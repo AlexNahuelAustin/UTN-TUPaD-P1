{
 "cells": [
  {
   "cell_type": "code",
   "execution_count": 2,
   "id": "30e17194",
   "metadata": {},
   "outputs": [
    {
     "name": "stdout",
     "output_type": "stream",
     "text": [
      "0\n",
      "1\n",
      "2\n",
      "3\n",
      "4\n",
      "5\n",
      "6\n",
      "7\n",
      "8\n",
      "9\n",
      "10\n",
      "11\n",
      "12\n",
      "13\n",
      "14\n",
      "15\n",
      "16\n",
      "17\n",
      "18\n",
      "19\n",
      "20\n",
      "21\n",
      "22\n",
      "23\n",
      "24\n",
      "25\n",
      "26\n",
      "27\n",
      "28\n",
      "29\n",
      "30\n",
      "31\n",
      "32\n",
      "33\n",
      "34\n",
      "35\n",
      "36\n",
      "37\n",
      "38\n",
      "39\n",
      "40\n",
      "41\n",
      "42\n",
      "43\n",
      "44\n",
      "45\n",
      "46\n",
      "47\n",
      "48\n",
      "49\n",
      "50\n",
      "51\n",
      "52\n",
      "53\n",
      "54\n",
      "55\n",
      "56\n",
      "57\n",
      "58\n",
      "59\n",
      "60\n",
      "61\n",
      "62\n",
      "63\n",
      "64\n",
      "65\n",
      "66\n",
      "67\n",
      "68\n",
      "69\n",
      "70\n",
      "71\n",
      "72\n",
      "73\n",
      "74\n",
      "75\n",
      "76\n",
      "77\n",
      "78\n",
      "79\n",
      "80\n",
      "81\n",
      "82\n",
      "83\n",
      "84\n",
      "85\n",
      "86\n",
      "87\n",
      "88\n",
      "89\n",
      "90\n",
      "91\n",
      "92\n",
      "93\n",
      "94\n",
      "95\n",
      "96\n",
      "97\n",
      "98\n",
      "99\n",
      "100\n"
     ]
    }
   ],
   "source": [
    "#1) Crea un programa que imprima en pantalla todos los números enteros desde 0 hasta 100\n",
    "#(incluyendo ambos extremos), en orden creciente, mostrando un número por línea.\n",
    "\n",
    "for numero in range(101):  \n",
    "    print(numero)"
   ]
  },
  {
   "cell_type": "code",
   "execution_count": null,
   "id": "d5278b1b",
   "metadata": {},
   "outputs": [
    {
     "name": "stdout",
     "output_type": "stream",
     "text": [
      "El número ingresado tiene 2 dígitos.\n"
     ]
    }
   ],
   "source": [
    "#2) Desarrolla un programa que solicite al usuario un número entero y determine la cantidad de\n",
    "#dígitos que contiene.\n",
    "\n",
    "num = int (input(\"ingrese un numero: \"))\n",
    "num_dig = 0\n",
    "\n",
    "while num > 0:\n",
    "    num = num // 10 \n",
    "    num_dig += 1\n",
    "\n",
    "print(\"la cantidad de digitos es: \", num_dig)\n",
    "\n",
    "\n"
   ]
  },
  {
   "cell_type": "code",
   "execution_count": null,
   "id": "85eaf86b",
   "metadata": {},
   "outputs": [
    {
     "name": "stdout",
     "output_type": "stream",
     "text": [
      "La suma de los números entre 5 y 8 (excluyéndolos) es: 13\n"
     ]
    }
   ],
   "source": [
    "#3) Escribe un programa que sume todos los números enteros comprendidos entre dos valores\n",
    "#dados por el usuario, excluyendo esos dos valores.\n",
    "valor1 = int(input(\"Ingrese el primer valor entero: \"))\n",
    "valor2 = int(input(\"Ingrese el segundo valor entero: \"))\n",
    "\n",
    "suma = 0\n",
    "\n",
    "if valor1 < valor2:\n",
    "    for numero in range(valor1 + 1, valor2):\n",
    "        suma += numero\n",
    "elif valor2 < valor1:\n",
    "    for numero in range(valor2 + 1, valor1):\n",
    "        suma += numero\n",
    "else:\n",
    "    print(\"Los valores ingresados son iguales, no hay números entre ellos.\")\n",
    "\n",
    "if valor1 != valor2:\n",
    "    print(f\"La suma de los números entre {valor1} y {valor2}  es: {suma}\")"
   ]
  },
  {
   "cell_type": "code",
   "execution_count": 3,
   "id": "dc7b31cf",
   "metadata": {},
   "outputs": [
    {
     "name": "stdout",
     "output_type": "stream",
     "text": [
      "El total acumulado es: 177\n"
     ]
    }
   ],
   "source": [
    "#4) Elabora un programa que permita al usuario ingresar números enteros y los sume en\n",
    "#secuencia. El programa debe detenerse y mostrar el total acumulado cuando el usuario ingrese\n",
    "#un 0.\n",
    "suma_total = 0\n",
    "cont = 1\n",
    "\n",
    "while True:\n",
    "    numero = int(input(f\"Ingrese el número {cont} (ingrese 0 para detener): \"))\n",
    "    if numero == 0:\n",
    "        break\n",
    "    suma_total += numero\n",
    "    cont += 1\n",
    "\n",
    "print(f\"El total acumulado es: {suma_total}\")"
   ]
  },
  {
   "cell_type": "code",
   "execution_count": 4,
   "id": "c6f823bf",
   "metadata": {},
   "outputs": [
    {
     "name": "stdout",
     "output_type": "stream",
     "text": [
      "El número es menor.\n",
      "El número es menor.\n",
      "El número es menor.\n",
      "El número es mayor.\n",
      "El número es mayor.\n",
      "El número es mayor.\n",
      "¡Correcto! Adivinaste el número en 7 intentos.\n"
     ]
    }
   ],
   "source": [
    "#5) Crea un juego en el que el usuario deba adivinar un número aleatorio entre 0 y 9. Al final, el\n",
    "#programa debe mostrar cuántos intentos fueron necesarios para acertar el número.\n",
    "import random\n",
    "\n",
    "numero_aleatorio = random.randint(0, 9)\n",
    "intentos = 0\n",
    "\n",
    "while True:\n",
    "    intento = int(input(\"Adivina el número (entre 0 y 9): \"))\n",
    "    intentos += 1\n",
    "    if intento == numero_aleatorio:\n",
    "        print(f\"¡Correcto! Adivinaste el número en {intentos} intentos.\")\n",
    "        break\n",
    "    elif intento < numero_aleatorio:\n",
    "        print(\"El número es mayor.\")\n",
    "    else:\n",
    "        print(\"El número es menor.\")\n"
   ]
  },
  {
   "cell_type": "code",
   "execution_count": null,
   "id": "8f3f8921",
   "metadata": {},
   "outputs": [],
   "source": [
    "#6) Desarrolla un programa que imprima en pantalla todos los números pares comprendidos\n",
    "#entre 0 y 100, en orden decreciente.\n",
    "for num in range(100, -1, -2):\n",
    "    print(num)"
   ]
  },
  {
   "cell_type": "code",
   "execution_count": 9,
   "id": "8c34a25d",
   "metadata": {},
   "outputs": [
    {
     "name": "stdout",
     "output_type": "stream",
     "text": [
      "La suma de los números desde 0 hasta 5 es: 15\n"
     ]
    }
   ],
   "source": [
    "#7) Crea un programa que calcule la suma de todos los números comprendidos entre 0 y un\n",
    "#número entero positivo indicado por el usuario.\n",
    "limite = int(input(\"Ingrese un número entero positivo: \"))\n",
    "suma = 0\n",
    "for num in range(limite + 1):\n",
    "    suma += num\n",
    "print(f\"La suma de los números desde 0 hasta {limite} es: {suma}\")"
   ]
  },
  {
   "cell_type": "code",
   "execution_count": null,
   "id": "7de4c975",
   "metadata": {},
   "outputs": [
    {
     "name": "stdout",
     "output_type": "stream",
     "text": [
      "Ingrese 5 números enteros:\n",
      "\n",
      "Cantidad de números pares: 2\n",
      "Cantidad de números impares: 3\n",
      "Cantidad de números negativos: 0\n",
      "Cantidad de números positivos: 5\n"
     ]
    }
   ],
   "source": [
    "#8) Escribe un programa que permita al usuario ingresar 100 números enteros. Luego, el\n",
    "#programa debe indicar cuántos de estos números son pares, cuántos son impares, cuántos son\n",
    "#negativos y cuántos son positivos. (Nota: para probar el programa puedes usar una cantidad\n",
    "#menor, pero debe estar preparado para procesar 100 números con un solo cambio).\n",
    "cantidad_num = 100 \n",
    "pares = 0\n",
    "impares = 0\n",
    "negativos = 0\n",
    "positivos = 0\n",
    "\n",
    "print(f\"Ingrese {cantidad_num} números enteros:\")\n",
    "for i in range(cantidad_num):\n",
    "    numero = int(input(f\"Número {i + 1}: \"))\n",
    "    if numero % 2 == 0:\n",
    "        pares += 1\n",
    "    else:\n",
    "        impares += 1\n",
    "    if numero < 0:\n",
    "        negativos += 1\n",
    "    elif numero > 0:\n",
    "        positivos += 1\n",
    "\n",
    "print(f\"\\nCantidad de números pares: {pares}\")\n",
    "print(f\"Cantidad de números impares: {impares}\")\n",
    "print(f\"Cantidad de números negativos: {negativos}\")\n",
    "print(f\"Cantidad de números positivos: {positivos}\")"
   ]
  },
  {
   "cell_type": "code",
   "execution_count": null,
   "id": "cc1d6911",
   "metadata": {},
   "outputs": [
    {
     "name": "stdout",
     "output_type": "stream",
     "text": [
      "Ingrese 5 números enteros:\n",
      "\n",
      "La media de los números ingresados es: 7.2\n"
     ]
    }
   ],
   "source": [
    "#9) Elabora un programa que permita al usuario ingresar 100 números enteros y luego calcule la\n",
    "#media de esos valores. (Nota: puedes probar el programa con una cantidad menor, pero debe\n",
    "#poder procesar 100 números cambiando solo un valor).\n",
    "cantidad_num = 100\n",
    "suma_total = 0\n",
    "\n",
    "print(f\"Ingrese {cantidad_num} números enteros:\")\n",
    "for i in range(cantidad_num):\n",
    "    numero = int(input(f\"Número {i + 1}: \"))\n",
    "    suma_total += numero\n",
    "\n",
    "if cantidad_num > 0:\n",
    "    media = suma_total / cantidad_num\n",
    "    print(f\"\\nLa media de los números ingresados es: {media}\")\n",
    "else:\n",
    "    print(\"No se ingresaron números para calcular la media.\")"
   ]
  },
  {
   "cell_type": "code",
   "execution_count": 5,
   "id": "f98c2335",
   "metadata": {},
   "outputs": [
    {
     "name": "stdout",
     "output_type": "stream",
     "text": [
      "El número invertido es: 5454\n"
     ]
    }
   ],
   "source": [
    "#10) Escribe un programa que invierta el orden de los dígitos de un número ingresado por el\n",
    "#usuario. Ejemplo: si el usuario ingresa 547, el programa debe mostrar 745.\n",
    "num_str = input(\"Ingrese un número entero: \")\n",
    "num_invertido_str = num_str[::-1]\n",
    "print(f\"El número invertido es: {num_invertido_str}\")"
   ]
  }
 ],
 "metadata": {
  "kernelspec": {
   "display_name": "Python 3",
   "language": "python",
   "name": "python3"
  },
  "language_info": {
   "codemirror_mode": {
    "name": "ipython",
    "version": 3
   },
   "file_extension": ".py",
   "mimetype": "text/x-python",
   "name": "python",
   "nbconvert_exporter": "python",
   "pygments_lexer": "ipython3",
   "version": "3.12.10"
  }
 },
 "nbformat": 4,
 "nbformat_minor": 5
}
