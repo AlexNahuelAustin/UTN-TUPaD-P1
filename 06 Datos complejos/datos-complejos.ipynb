{
 "cells": [
  {
   "cell_type": "code",
   "execution_count": null,
   "id": "e9152e42",
   "metadata": {},
   "outputs": [
    {
     "name": "stdout",
     "output_type": "stream",
     "text": [
      "{'banana': 1200, 'anana': 2500, 'melon': 3000, 'uva': 1450, 'naranja': 1200, 'manzana': 1500, 'pera': 1450}\n"
     ]
    }
   ],
   "source": [
    "#1) Dado el diccionario precios_frutas\n",
    "#precios_frutas = {'Banana': 1200, 'Ananá': 2500, 'Melón': 3000, 'Uva':\n",
    "#1450}\n",
    "#Añadir las siguientes frutas con sus respectivos precios:\n",
    "##● Naranja = 1200\n",
    "#● Manzana = 1500\n",
    "#● Pera = 2300\n",
    "\n",
    "precio_frutas = {\n",
    "'banana': 1200,\n",
    "'anana': 2500,\n",
    "'melon' : 3000,\n",
    "'uva':1450    \n",
    "}\n",
    "\n",
    "precio_frutas['naranja'] = 1200\n",
    "precio_frutas['manzana'] = 1500\n",
    "precio_frutas['pera'] = 1450\n",
    "\n",
    "print(precio_frutas)\n"
   ]
  },
  {
   "cell_type": "code",
   "execution_count": 3,
   "id": "d66e5a43",
   "metadata": {},
   "outputs": [
    {
     "name": "stdout",
     "output_type": "stream",
     "text": [
      "{'banana': 1200, 'anana': 2500, 'melon': 3000, 'uva': 1450, 'naranja': 1200, 'manzana': 1500, 'pera': 1450}\n",
      "{'banana': 1330, 'anana': 2500, 'melon': 2800, 'uva': 1450, 'naranja': 1200, 'manzana': 1700, 'pera': 1450}\n"
     ]
    }
   ],
   "source": [
    "#2) Siguiendo con el diccionario precios_frutas que resulta luego de ejecutar el código\n",
    "#desarrollado en el punto anterior, actualizar los precios de las siguientes frutas:\n",
    "#● Banana = 1330\n",
    "#● Manzana = 1700\n",
    "#● Melón = 2800\n",
    "\n",
    "\n",
    "precio_frutas = {\n",
    "'banana': 1200,\n",
    "'anana': 2500,\n",
    "'melon' : 3000,\n",
    "'uva':1450    \n",
    "}\n",
    "\n",
    "precio_frutas['naranja'] = 1200\n",
    "precio_frutas['manzana'] = 1500\n",
    "precio_frutas['pera'] = 1450\n",
    "\n",
    "print(precio_frutas)\n",
    "\n",
    "precio_frutas['banana'] = 1330\n",
    "precio_frutas['manzana'] = 1700\n",
    "precio_frutas['melon'] = 2800\n",
    "\n",
    "print(precio_frutas)\n",
    "\n",
    "\n"
   ]
  },
  {
   "cell_type": "code",
   "execution_count": 18,
   "id": "e8173b43",
   "metadata": {},
   "outputs": [
    {
     "name": "stdout",
     "output_type": "stream",
     "text": [
      "{'banana': 1200, 'anana': 2500, 'melon': 3000, 'uva': 1450, 'naranja': 1200, 'manzana': 1500, 'pera': 1450}\n",
      "{'banana': 1330, 'anana': 2500, 'melon': 2800, 'uva': 1450, 'naranja': 1200, 'manzana': 1700, 'pera': 1450}\n",
      "['banana', 'anana', 'melon', 'uva', 'naranja', 'manzana', 'pera']\n"
     ]
    }
   ],
   "source": [
    "\n",
    "#3) Siguiendo con el diccionario precios_frutas que resulta luego de ejecutar el código\n",
    "#desarrollado en el punto anterior, crear una lista que contenga únicamente las frutas sin los\n",
    "#precios.\n",
    "\n",
    "\n",
    "precio_frutas = {\n",
    "'banana': 1200,\n",
    "'anana': 2500,\n",
    "'melon' : 3000,\n",
    "'uva':1450    \n",
    "}\n",
    "\n",
    "precio_frutas['naranja'] = 1200\n",
    "precio_frutas['manzana'] = 1500\n",
    "precio_frutas['pera'] = 1450\n",
    "\n",
    "print(precio_frutas)\n",
    "\n",
    "precio_frutas['banana'] = 1330\n",
    "precio_frutas['manzana'] = 1700\n",
    "precio_frutas['melon'] = 2800\n",
    "\n",
    "print(precio_frutas)\n",
    "\n",
    "print(list(precio_frutas))\n",
    "\n",
    "\n",
    "\n"
   ]
  },
  {
   "cell_type": "code",
   "execution_count": null,
   "id": "7eaf99eb",
   "metadata": {},
   "outputs": [
    {
     "name": "stdout",
     "output_type": "stream",
     "text": [
      "ingrese el nombre para buscar su numero telefonico\n",
      " escriba 'salir' para salir de guia \n",
      "el numero de Alex es: 879252 \n"
     ]
    }
   ],
   "source": [
    "#4) Escribí un programa que permita almacenar y consultar números telefónicos.\n",
    "#• Permití al usuario cargar 5 contactos con su nombre como clave y número como valor.\n",
    "#• Luego, pedí un nombre y mostrale el número asociado, si existe.\n",
    "\n",
    "guia_telefonica ={\n",
    "'alex': 879252,\n",
    "'esteban':56402455,\n",
    "'carla': 1475548,\n",
    "'lunsa': 66872208,\n",
    "'john': 25880456\n",
    "}\n",
    "\n",
    "salida_de_la_guia = True\n",
    "\n",
    "while salida_de_la_guia:\n",
    "    print(\"ingrese el nombre para buscar su numero telefonico\\n escriba 'salir' para terminar la busqueda \")\n",
    "    nombre_buscado = input(\"Nombre: \").lower()\n",
    "    \n",
    "    if nombre_buscado == 'salir':\n",
    "        print(\"saliendo de la guia\")\n",
    "        salida_de_la_guia = False\n",
    "    \n",
    "    elif nombre_buscado in guia_telefonica:\n",
    "        numero_telefonico = guia_telefonica[nombre_buscado]\n",
    "        print(f\"el numero de {nombre_buscado.capitalize()} es: {numero_telefonico} \")\n",
    "        salida_de_la_guia = False\n",
    "    else:\n",
    "        print(f\"el nombre {nombre_buscado.capitalize()} no se encuentra en la guia. Intente con otro nombre\")\n",
    "    "
   ]
  },
  {
   "cell_type": "code",
   "execution_count": 52,
   "id": "56238e5d",
   "metadata": {},
   "outputs": [
    {
     "name": "stdout",
     "output_type": "stream",
     "text": [
      "\n",
      "La frase es: Jet‑set, ¿por qué no puedo ser del Jet‑set? Jet‑set, yo solo quiero ser del Jet‑set\n",
      "\n",
      "Palabras únicas: {'puedo', 'jet‑set?', 'qué', 'ser', 'jet‑set', 'quiero', 'del', 'jet‑set,', 'no', 'yo', 'solo', '¿por'}\n",
      "\n",
      "Conteo de palabras: {'jet‑set,': 2, '¿por': 1, 'qué': 1, 'no': 1, 'puedo': 1, 'ser': 2, 'del': 2, 'jet‑set?': 1, 'yo': 1, 'solo': 1, 'quiero': 1, 'jet‑set': 1}\n"
     ]
    }
   ],
   "source": [
    "#5)Solicita al usuario una frase e imprime:\n",
    "#• Las palabras únicas (usando un set).\n",
    "#• Un diccionario con la cantidad de veces que aparece cada palabra.\n",
    "\n",
    "\n",
    "frase = input(\"Ingrese una frase: \")\n",
    "\n",
    "palabras = frase.lower().split()\n",
    "\n",
    "palabras_unicas = set(palabras)\n",
    "\n",
    "conteo = {\n",
    "    \n",
    "}\n",
    "\n",
    "for palabra in palabras:\n",
    "    if palabra in conteo:\n",
    "        conteo[palabra] += 1\n",
    "    else:\n",
    "        conteo[palabra] = 1\n",
    "\n",
    "print(f\"\\nLa frase es: {frase}\")\n",
    "print(f\"\\nPalabras únicas: {palabras_unicas}\")\n",
    "print(f\"\\nConteo de palabras: {conteo}\")\n",
    "\n",
    "\n"
   ]
  },
  {
   "cell_type": "code",
   "execution_count": null,
   "id": "621f58c5",
   "metadata": {},
   "outputs": [
    {
     "name": "stdout",
     "output_type": "stream",
     "text": [
      "{'pedro': (4.0, 5.0, 9.0)}\n",
      "el promedio de pedro es: 6.000000\n",
      "{'pedro': (4.0, 5.0, 9.0), 'alexi': (7.0, 8.0, 3.0)}\n",
      "el promedio de pedro es: 6.000000\n",
      "el promedio de alexi es: 6.000000\n",
      "{'pedro': (4.0, 5.0, 9.0), 'alexi': (7.0, 8.0, 3.0), 'juan': (7.0, 9.0, 5.0)}\n",
      "el promedio de pedro es: 6.000000\n",
      "el promedio de alexi es: 6.000000\n",
      "el promedio de juan es: 7.000000\n"
     ]
    }
   ],
   "source": [
    "#6) Permití ingresar los nombres de 3 alumnos, y para cada uno una tupla de 3 notas.\n",
    "#Luego, mostrá el promedio de cada alumno.\n",
    "\n",
    "alumnos_notas ={\n",
    "    \n",
    "}\n",
    "\n",
    "for i in range(3):\n",
    "    nombre = input(f\"Ingrese el nombre del alumno {i+1}: \")\n",
    "    notas = input(f\"Ingrese 3 notas separadas por espacios para {nombre}: \")\n",
    "    notas = tuple(map(float, notas.split()))\n",
    "    alumnos_notas[nombre] = notas\n",
    "    \n",
    "    print(alumnos_notas)\n",
    "    \n",
    "    for nombre,notas in alumnos_notas.items():\n",
    "        promedio = sum(notas)/len(notas)\n",
    "        print(f\"el promedio de {nombre} es: {promedio:2f}\")"
   ]
  },
  {
   "cell_type": "code",
   "execution_count": 62,
   "id": "ab036d11",
   "metadata": {},
   "outputs": [
    {
     "name": "stdout",
     "output_type": "stream",
     "text": [
      "los estudiante que aprobaron ambos parcial fueron {'matias', 'pedro', 'ethian', 'luan', 'federico'}\n",
      "aprobaron solo uno de los parciales  {'luz', 'john', 'juan', 'goro', 'lucia', 'ludmila', 'park', 'jorge', 'sofia'}\n",
      "aprbaron solo al menos 1 {'juan', 'matias', 'goro', 'pedro', 'lucia', 'ludmila', 'jorge', 'sofia', 'luz', 'john', 'ethian', 'park', 'luan', 'federico'}\n"
     ]
    }
   ],
   "source": [
    "#7) Dado dos sets de números, representando dos listas de estudiantes que aprobaron Parcial 1 y Parcial 2:\n",
    "#• Mostrá los que aprobaron ambos parciales.\n",
    "#• Mostrá los que aprobaron solo uno de los dos.\n",
    "#• Mostrá la lista total de estudiantes que aprobaron al menos un parcial (sin repetir).\n",
    "\n",
    "parcial_1 = {'juan', 'pedro','matias','sofia','lucia','ethian','luan','ludmila','federico'}\n",
    "parcial_2 = {'luan','luz','matias','jorge','ethian','john','park','federico','pedro','goro'}\n",
    "\n",
    "aprobaron_ambos = parcial_1.intersection((parcial_2))\n",
    "\n",
    "print(\"los estudiante que aprobaron ambos parcial fueron\", aprobaron_ambos)\n",
    "\n",
    "\n",
    "aprobaron_solo_uno = parcial_1.symmetric_difference(parcial_2)\n",
    "\n",
    "print(\"aprobaron solo uno de los parciales \", aprobaron_solo_uno)\n",
    "\n",
    "\n",
    "aprobaron_al_menos_uno = parcial_1.union(parcial_2)\n",
    "\n",
    "print(\"aprbaron solo al menos 1\", aprobaron_al_menos_uno)"
   ]
  },
  {
   "cell_type": "code",
   "execution_count": null,
   "id": "b4f8315f",
   "metadata": {},
   "outputs": [
    {
     "name": "stdout",
     "output_type": "stream",
     "text": [
      "5\n",
      "6\n",
      "1\n",
      "8\n",
      "{'fender(electrica)': 5, 'gibson(electrica)': 2, 'epiphone(electrica)': 4, 'squier(electrica)': 6, 'taylor(acustica)': 10, 'takamine': 'AGOTADA', 'martin(acustica)': 1, 'jackson(electrica)': 8}\n"
     ]
    }
   ],
   "source": [
    "#8) Armá un diccionario donde las claves sean nombres de productos y los valores su stock. Permití al usuario:\n",
    "#• Consultar el stock de un producto ingresado.\n",
    "#• Agregar unidades al stock si el producto ya existe.\n",
    "#• Agregar un nuevo producto si no existe.\n",
    "\n",
    "stock_guitarras = {\n",
    "'fender(electrica)' : 5,\n",
    "'gibson(electrica)': 2,\n",
    "'epiphone(electrica)': 4,\n",
    "'squier(electrica)': 'AGOTADA',\n",
    "'taylor(acustica)' : 10,\n",
    "'takamine' : 'AGOTADA', \n",
    "}\n",
    "#• Consultar el stock de un producto ingresado.\n",
    "print(stock_guitarras['fender(electrica)'])\n",
    "\n",
    "#• Agregar unidades al stock si el producto ya existe.\n",
    "stock_guitarras['squier(electrica)'] = 6\n",
    "print(stock_guitarras['squier(electrica)'])\n",
    "\n",
    "#• Agregar un nuevo producto si no existe.\n",
    "stock_guitarras['martin(acustica)'] = 1\n",
    "stock_guitarras['jackson(electrica)'] = 8\n",
    "\n",
    "print(stock_guitarras['martin(acustica)'])\n",
    "print(stock_guitarras['jackson(electrica)'])\n",
    "\n",
    "#todas las guitarras\n",
    "print(stock_guitarras)\n",
    "\n",
    "\n"
   ]
  },
  {
   "cell_type": "code",
   "execution_count": 69,
   "id": "c34aec3f",
   "metadata": {},
   "outputs": [
    {
     "name": "stdout",
     "output_type": "stream",
     "text": [
      "clase de anatomia\n"
     ]
    }
   ],
   "source": [
    "#9) Creá una agenda donde las claves sean tuplas de (día, hora) y los valores sean eventos.\n",
    "#Permití consultar qué actividad hay en cierto día y hora.\n",
    "\n",
    "\n",
    "agenda = {\n",
    "('lunes', '9:25'): 'salir a correr',\n",
    "('lunes', '12:00'): 'hacer las compras',\n",
    "('lunes', '15:00'): 'clase de anatomia',\n",
    "('lunes','17:00'): 'estudiar anatomia',\n",
    "('martes', '8:30'): 'clase de fisiologia',\n",
    "('martes', '15:00'): 'estudiar fisiologia',\n",
    "('viernes','9:25'): 'ir al gimnasio',\n",
    "('viernes', '15:00'): 'presentar el trabajo de bioquimica'  \n",
    "}\n",
    "\n",
    "\n",
    "print(agenda[('lunes', '15:00')])"
   ]
  },
  {
   "cell_type": "code",
   "execution_count": 70,
   "id": "f569e995",
   "metadata": {},
   "outputs": [
    {
     "name": "stdout",
     "output_type": "stream",
     "text": [
      "Azerbaiyán\n",
      "{'buenos aires': 'argentina', 'paris': 'francia', 'tokio': 'japon', 'berlin': 'alemania', 'madrid': 'españa', 'seul': 'corea del sur', 'Nursultán': 'Kazajistán', 'Yamusukro': 'Costa de Marfil', 'Baku': 'Azerbaiyán', 'lisboa': 'portugal'}\n"
     ]
    }
   ],
   "source": [
    "#10) Dado un diccionario que mapea nombres de países con sus capitales, construí un nuevo\n",
    "#diccionario donde:\n",
    "#• Las capitales sean las claves.\n",
    "#• Los países sean los valores.\n",
    "\n",
    "capitales = {\n",
    "'buenos aires': 'argentina',\n",
    "'paris': 'francia',\n",
    "'tokio': 'japon',\n",
    "'berlin': 'alemania',\n",
    "'madrid': 'españa',\n",
    "'seul': 'corea del sur',\n",
    "'Nursultán': 'Kazajistán',\n",
    "'Yamusukro': 'Costa de Marfil',\n",
    "'Baku': 'Azerbaiyán',\n",
    "'lisboa': 'portugal',\n",
    "}\n",
    "\n",
    "\n",
    "print(capitales['Baku'])\n",
    "print(capitales)"
   ]
  }
 ],
 "metadata": {
  "kernelspec": {
   "display_name": "Python 3",
   "language": "python",
   "name": "python3"
  },
  "language_info": {
   "codemirror_mode": {
    "name": "ipython",
    "version": 3
   },
   "file_extension": ".py",
   "mimetype": "text/x-python",
   "name": "python",
   "nbconvert_exporter": "python",
   "pygments_lexer": "ipython3",
   "version": "3.12.10"
  }
 },
 "nbformat": 4,
 "nbformat_minor": 5
}
