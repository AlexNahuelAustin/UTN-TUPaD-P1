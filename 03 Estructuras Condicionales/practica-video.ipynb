{
 "cells": [
  {
   "cell_type": "code",
   "execution_count": 11,
   "metadata": {},
   "outputs": [
    {
     "name": "stdout",
     "output_type": "stream",
     "text": [
      "Edad necesaria para conducir una ambulancia\n"
     ]
    }
   ],
   "source": [
    "edad_minima = 21\n",
    "edad = int(input(\"Ingrese su edad: \"))\n",
    "categoria = input(\"Ingrese su categoría (A, B, C, D, F, G): \")\n",
    "\n",
    "if edad >= edad_minima and categoria == \"D\":\n",
    "    print(\"Edad necesaria para conducir una ambulancia\")\n",
    "else:\n",
    "    print(\"No puede conducir una ambulancia\")\n",
    "\n"
   ]
  }
 ],
 "metadata": {
  "kernelspec": {
   "display_name": "Python 3",
   "language": "python",
   "name": "python3"
  },
  "language_info": {
   "codemirror_mode": {
    "name": "ipython",
    "version": 3
   },
   "file_extension": ".py",
   "mimetype": "text/x-python",
   "name": "python",
   "nbconvert_exporter": "python",
   "pygments_lexer": "ipython3",
   "version": "3.12.9"
  }
 },
 "nbformat": 4,
 "nbformat_minor": 2
}
