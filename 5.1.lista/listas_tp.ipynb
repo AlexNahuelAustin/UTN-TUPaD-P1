{
 "cells": [
  {
   "cell_type": "code",
   "execution_count": 9,
   "id": "ae05c7e6",
   "metadata": {},
   "outputs": [
    {
     "name": "stdout",
     "output_type": "stream",
     "text": [
      "[0, 4, 8, 12, 16, 20, 24, 28, 32, 36, 40, 44, 48, 52, 56, 60, 64, 68, 72, 76, 80, 84, 88, 92, 96, 100]\n"
     ]
    }
   ],
   "source": [
    "#1) Crear una lista con los números del 1 al 100 que sean múltiplos de 4. Utilizar la función\n",
    "# range.\n",
    "lista_numero = list(range(0,101,4))\n",
    "print(lista_numero)"
   ]
  },
  {
   "cell_type": "code",
   "execution_count": null,
   "id": "c6589067",
   "metadata": {},
   "outputs": [],
   "source": [
    "#2) Crear una lista con cinco elementos (colocar los elementos que más te gusten) y mostrar el\n",
    "#penúltimo. ¡Puedes hacerlo como se muestra en los videos o bien investigar cómo funciona el\n",
    "# indexing con números negativos!"
   ]
  },
  {
   "cell_type": "code",
   "execution_count": null,
   "id": "ba58947e",
   "metadata": {},
   "outputs": [],
   "source": [
    "#3) Crear una lista vacía, agregar tres palabras con append e imprimir la lista resultante por\n",
    "#pantalla. Pista: para crear una lista vacía debes colocar los corchetes sin nada en su interior. Por\n",
    "#ejemplo:\n",
    "#lista_vacia = []\n"
   ]
  },
  {
   "cell_type": "code",
   "execution_count": null,
   "id": "06e6c277",
   "metadata": {},
   "outputs": [],
   "source": [
    "#4) Reemplazar el segundo y último valor de la lista “animales” con las palabras “loro” y “oso”,\n",
    "#respectivamente. Imprimir la lista resultante por pantalla. ¡Puedes hacerlo como se muestra\n",
    "#en los videos o bien investigar cómo funciona el indexing con números negativos!\n",
    "#animales = [\"perro\", \"gato\", \"conejo\", \"pez\"]\n"
   ]
  },
  {
   "cell_type": "code",
   "execution_count": null,
   "id": "0bd3eb3c",
   "metadata": {},
   "outputs": [],
   "source": [
    "#5) Analizar el siguiente programa y explicar con tus palabras qué es lo que realiza."
   ]
  },
  {
   "cell_type": "code",
   "execution_count": null,
   "id": "ba0a80d6",
   "metadata": {},
   "outputs": [],
   "source": [
    "#6) Crear una lista con números del 10 al 30 (incluído), haciendo saltos de 5 en 5 y mostrar por\n",
    "#pantalla los dos primeros.\n"
   ]
  },
  {
   "cell_type": "code",
   "execution_count": null,
   "id": "718a3086",
   "metadata": {},
   "outputs": [],
   "source": [
    "#7) Reemplazar los dos valores centrales (índices 1 y 2) de la lista “autos” por dos nuevos valores\n",
    "#cualesquiera.\n",
    "#autos = [\"sedan\", \"polo\", \"suran\", \"gol\"]"
   ]
  },
  {
   "cell_type": "code",
   "execution_count": null,
   "id": "4310aa31",
   "metadata": {},
   "outputs": [],
   "source": [
    "#8) Crear una lista vacía llamada \"dobles\" y agregar el doble de 5, 10 y 15 usando append\n",
    "#directamente. Imprimir la lista resultante por pantalla"
   ]
  },
  {
   "cell_type": "code",
   "execution_count": null,
   "id": "9d439193",
   "metadata": {},
   "outputs": [],
   "source": [
    "#9) Dada la lista “compras”, cuyos elementos representan los productos comprados por\n",
    "#diferentes clientes:\n",
    "#compras = [[\"pan\", \"leche\"], [\"arroz\", \"fideos\", \"salsa\"],\n",
    "#[\"agua\"]]\n",
    "#a) Agregar \"jugo\" a la lista del tercer cliente usando append.\n",
    "#b) Reemplazar \"fideos\" por \"tallarines\" en la lista del segundo cliente.\n",
    "#c) Eliminar \"pan\" de la lista del primer cliente.\n",
    "#d) Imprimir la lista resultante por pantalla\n"
   ]
  },
  {
   "cell_type": "code",
   "execution_count": null,
   "id": "b2296d8b",
   "metadata": {},
   "outputs": [],
   "source": [
    "#10) Elaborar una lista anidada llamada “lista_anidada” que contenga los siguientes elementos:\n",
    "#● Posición lista_anidada[0]: 15\n",
    "#● Posición lista_anidada[1]: True\n",
    "#● Posición lista_anidada[2][0]: 25.5\n",
    "#● Posición lista_anidada[2][1]: 57.9\n",
    "#● Posición lista_anidada[2][2]: 30.6\n",
    "#● Posición lista_anidada[3]: False\n",
    "#Imprimir la lista resultante por pantalla.\n"
   ]
  }
 ],
 "metadata": {
  "kernelspec": {
   "display_name": "Python 3",
   "language": "python",
   "name": "python3"
  },
  "language_info": {
   "codemirror_mode": {
    "name": "ipython",
    "version": 3
   },
   "file_extension": ".py",
   "mimetype": "text/x-python",
   "name": "python",
   "nbconvert_exporter": "python",
   "pygments_lexer": "ipython3",
   "version": "3.12.10"
  }
 },
 "nbformat": 4,
 "nbformat_minor": 5
}
