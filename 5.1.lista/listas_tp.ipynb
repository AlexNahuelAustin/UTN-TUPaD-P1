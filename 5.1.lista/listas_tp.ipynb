{
 "cells": [
  {
   "cell_type": "code",
   "execution_count": 9,
   "id": "ae05c7e6",
   "metadata": {},
   "outputs": [
    {
     "name": "stdout",
     "output_type": "stream",
     "text": [
      "[0, 4, 8, 12, 16, 20, 24, 28, 32, 36, 40, 44, 48, 52, 56, 60, 64, 68, 72, 76, 80, 84, 88, 92, 96, 100]\n"
     ]
    }
   ],
   "source": [
    "#1) Crear una lista con los números del 1 al 100 que sean múltiplos de 4. Utilizar la función\n",
    "# range.\n",
    "lista_numero = list(range(0,101,4))\n",
    "print(lista_numero)"
   ]
  },
  {
   "cell_type": "code",
   "execution_count": null,
   "id": "c6589067",
   "metadata": {},
   "outputs": [
    {
     "name": "stdout",
     "output_type": "stream",
     "text": [
      "cerati\n",
      "cerati\n"
     ]
    }
   ],
   "source": [
    "#2) Crear una lista con cinco elementos (colocar los elementos que más te gusten) y mostrar el\n",
    "#penúltimo. ¡Puedes hacerlo como se muestra en los videos o bien investigar cómo funciona el\n",
    "# indexing con números negativos!\n",
    "rock = [\"soda estereo\",\"queen\", \"Audioslave \", \"el flaco spinetta\", \"cerati\" ]\n",
    "\n",
    "print(rock[4])\n",
    "print(rock[-1])"
   ]
  },
  {
   "cell_type": "code",
   "execution_count": 6,
   "id": "ba58947e",
   "metadata": {},
   "outputs": [
    {
     "name": "stdout",
     "output_type": "stream",
     "text": [
      "['chris', 'freddy', 1]\n"
     ]
    }
   ],
   "source": [
    "#3) Crear una lista vacía, agregar tres palabras con append e imprimir la lista resultante por\n",
    "#pantalla. Pista: para crear una lista vacía debes colocar los corchetes sin nada en su interior. Por\n",
    "#ejemplo:\n",
    "#lista_vacia = []\n",
    "lista_vacio = []\n",
    "\n",
    "lista_vacio.append(\"chris\")\n",
    "lista_vacio.append(\"freddy\")\n",
    "lista_vacio.append(1)\n",
    "\n",
    "print(lista_vacio)\n"
   ]
  },
  {
   "cell_type": "code",
   "execution_count": 10,
   "id": "06e6c277",
   "metadata": {},
   "outputs": [
    {
     "name": "stdout",
     "output_type": "stream",
     "text": [
      "['perro', 'loro', 'conejo', 'oso']\n"
     ]
    }
   ],
   "source": [
    "#4) Reemplazar el segundo y último valor de la lista “animales” con las palabras “loro” y “oso”,\n",
    "#respectivamente. Imprimir la lista resultante por pantalla. ¡Puedes hacerlo como se muestra\n",
    "#en los videos o bien investigar cómo funciona el indexing con números negativos!\n",
    "#animales = [\"perro\", \"gato\", \"conejo\", \"pez\"]\n",
    "\n",
    "animales = [\"perro\", \"gato\", \"conejo\", \"pez\"]\n",
    "\n",
    "\n",
    "animales[1] = \"loro\"\n",
    "animales[3] = \"oso\"\n",
    "\n",
    "print(animales)"
   ]
  },
  {
   "cell_type": "code",
   "execution_count": null,
   "id": "0bd3eb3c",
   "metadata": {},
   "outputs": [
    {
     "name": "stdout",
     "output_type": "stream",
     "text": [
      "[8, 15, 3, 7]\n"
     ]
    }
   ],
   "source": [
    "#5) Analizar el siguiente programa y explicar con tus palabras qué es lo que realiza.\n",
    "numeros = [8,15,3,22,7]\n",
    "numeros.remove(max(numeros))\n",
    "print(numeros)\n",
    "#lo q hace es eliminar el numero mas grande uitlizando la funcion max(el numero 22)"
   ]
  },
  {
   "cell_type": "code",
   "execution_count": 16,
   "id": "ba0a80d6",
   "metadata": {},
   "outputs": [
    {
     "name": "stdout",
     "output_type": "stream",
     "text": [
      "[10, 15, 20, 25, 30]\n"
     ]
    }
   ],
   "source": [
    "#6) Crear una lista con números del 10 al 30 (incluído), haciendo saltos de 5 en 5 y mostrar por\n",
    "#pantalla los dos primeros.\n",
    "numeros = list(range(10,31,5))\n",
    "print(numeros)"
   ]
  },
  {
   "cell_type": "code",
   "execution_count": 19,
   "id": "718a3086",
   "metadata": {},
   "outputs": [
    {
     "name": "stdout",
     "output_type": "stream",
     "text": [
      "['sedan', 'senna(McLaren)', 'LaFerrari', 'gol']\n"
     ]
    }
   ],
   "source": [
    "#7) Reemplazar los dos valores centrales (índices 1 y 2) de la lista “autos” por dos nuevos valores\n",
    "#cualesquiera.\n",
    "#autos = [\"sedan\", \"polo\", \"suran\", \"gol\"]\n",
    "\n",
    "autos = [\"sedan\", \"polo\", \"suran\", \"gol\"]\n",
    "\n",
    "autos [1] = \"senna(McLaren)\"\n",
    "autos [2] = \"LaFerrari\"\n",
    "\n",
    "print(autos)"
   ]
  },
  {
   "cell_type": "code",
   "execution_count": 20,
   "id": "4310aa31",
   "metadata": {},
   "outputs": [
    {
     "name": "stdout",
     "output_type": "stream",
     "text": [
      "[5, 10, 15]\n"
     ]
    }
   ],
   "source": [
    "#8) Crear una lista vacía llamada \"dobles\" y agregar el doble de 5, 10 y 15 usando append\n",
    "#directamente. Imprimir la lista resultante por pantalla.\n",
    "\n",
    "dobles = []\n",
    "\n",
    "dobles.append (5)\n",
    "dobles.append (10)\n",
    "dobles.append (15)\n",
    "\n",
    "print(dobles)"
   ]
  },
  {
   "cell_type": "code",
   "execution_count": 26,
   "id": "9d439193",
   "metadata": {},
   "outputs": [
    {
     "name": "stdout",
     "output_type": "stream",
     "text": [
      "[['leche'], ['arroz', 'tallarines', 'salsa'], ['agua', 'jugo']]\n"
     ]
    }
   ],
   "source": [
    "#9) Dada la lista “compras”, cuyos elementos representan los productos comprados por\n",
    "#diferentes clientes:\n",
    "#compras = [[\"pan\", \"leche\"], [\"arroz\", \"fideos\", \"salsa\"],\n",
    "#[\"agua\"]]\n",
    "#a) Agregar \"jugo\" a la lista del tercer cliente usando append.\n",
    "#b) Reemplazar \"fideos\" por \"tallarines\" en la lista del segundo cliente.\n",
    "#c) Eliminar \"pan\" de la lista del primer cliente.\n",
    "#d) Imprimir la lista resultante por pantalla\n",
    "\n",
    "compras = [[\"pan\", \"leche\"], [\"arroz\", \"fideos\", \"salsa\"],[\"agua\"]]\n",
    "\n",
    "compras[2].append(\"jugo\")\n",
    "compras[1][1] = \"tallarines\"\n",
    "compras[0].remove(\"pan\")\n",
    "\n",
    "\n",
    "print(compras)\n"
   ]
  },
  {
   "cell_type": "code",
   "execution_count": 28,
   "id": "b2296d8b",
   "metadata": {},
   "outputs": [
    {
     "name": "stdout",
     "output_type": "stream",
     "text": [
      "[15, True, [25.5, 57.9, 30.6], False]\n",
      "[15, True, [25.5, 57.9, 30.6], False]\n"
     ]
    }
   ],
   "source": [
    "#10) Elaborar una lista anidada llamada “lista_anidada” que contenga los siguientes elementos:\n",
    "#● Posición lista_anidada[0]: 15\n",
    "#● Posición lista_anidada[1]: True\n",
    "#● Posición lista_anidada[2][0]: 25.5\n",
    "#● Posición lista_anidada[2][1]: 57.9\n",
    "#● Posición lista_anidada[2][2]: 30.6\n",
    "#● Posición lista_anidada[3]: False\n",
    "#Imprimir la lista resultante por pantalla.\n",
    "\n",
    "lista_anidada  = [15, True, [25.5, 57.9, 30.6], False]\n",
    "print(lista_anidada)\n",
    "print(lista_anidada)"
   ]
  }
 ],
 "metadata": {
  "kernelspec": {
   "display_name": "Python 3",
   "language": "python",
   "name": "python3"
  },
  "language_info": {
   "codemirror_mode": {
    "name": "ipython",
    "version": 3
   },
   "file_extension": ".py",
   "mimetype": "text/x-python",
   "name": "python",
   "nbconvert_exporter": "python",
   "pygments_lexer": "ipython3",
   "version": "3.12.10"
  }
 },
 "nbformat": 4,
 "nbformat_minor": 5
}
